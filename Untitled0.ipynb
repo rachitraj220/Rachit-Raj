{
  "nbformat": 4,
  "nbformat_minor": 0,
  "metadata": {
    "colab": {
      "name": "Untitled0.ipynb",
      "provenance": [],
      "collapsed_sections": [],
      "authorship_tag": "ABX9TyNLK4vJ8i8MIrEN/c2Po2co",
      "include_colab_link": true
    },
    "kernelspec": {
      "name": "python3",
      "display_name": "Python 3"
    }
  },
  "cells": [
    {
      "cell_type": "markdown",
      "metadata": {
        "id": "view-in-github",
        "colab_type": "text"
      },
      "source": [
        "<a href=\"https://colab.research.google.com/github/rachitraj220/Rachit-Raj/blob/master/Untitled0.ipynb\" target=\"_parent\"><img src=\"https://colab.research.google.com/assets/colab-badge.svg\" alt=\"Open In Colab\"/></a>"
      ]
    },
    {
      "cell_type": "code",
      "metadata": {
        "id": "gjbygjZnShwb",
        "colab_type": "code",
        "colab": {}
      },
      "source": [
        "#1st calculator of 2 numbers with only 4 options\n",
        "x = float (input(\"Please enter the first number: \"))\n",
        "y = float (input(\"Please enter the second number: \"))\n",
        "\n",
        "print(\"1) Add the two numbers\")\n",
        "print(\"2) Subtract the two numbers\")\n",
        "print(\"3) Multiply the two numbers\")\n",
        "print(\"4) Divide the two numbers\")\n",
        "\n",
        "choice = int(input(\"Please enter your choice: \"))\n",
        "\n",
        "print(\"The answer is: \", end=\" \")\n",
        "\n",
        "if choice == 1:\n",
        "    print(x + y)\n",
        "else:\n",
        "    if choice == 2:\n",
        "        print(x - y)\n",
        "    else:\n",
        "        if choice == 3:\n",
        "            print(x * y)\n",
        "        else:\n",
        "            if choice == 4:\n",
        "                print(x / y)\n",
        "            else:\n",
        "                print(\"You didn't enter a valid choice\")"
      ],
      "execution_count": null,
      "outputs": []
    },
    {
      "cell_type": "code",
      "metadata": {
        "id": "h2adrUVTyx9p",
        "colab_type": "code",
        "colab": {}
      },
      "source": [
        "#this is a alternate method\n",
        "x = float (input(\"Please enter the first number: \"))\n",
        "y = float (input(\"Please enter thr second number: \"))\n",
        "\n",
        "print(\"1) Add the two numbers\")\n",
        "print(\"2) subtract the two numbers\")\n",
        "print(\"3) Multiply the two numbers\")\n",
        "print(\"4) Divide the two numbers\")\n",
        "\n",
        "choice = int(input(\"Please enter a choice: \"))\n",
        "\n",
        "print(\"THe answer is: \", end=\"\")\n",
        "\n",
        "\n",
        "if choice == 1:\n",
        "    print(x + y)\n",
        "elif choice == 2:\n",
        "    print(x - y)\n",
        "elif choice == 3:\n",
        "    print(x * y)\n",
        "elif choice == 4:\n",
        "    print(x / y)\n",
        "else:\n",
        "    print(\"You didn't enter a valid choice.\")\n",
        "\n",
        "print(\"Thank you\")"
      ],
      "execution_count": null,
      "outputs": []
    },
    {
      "cell_type": "code",
      "metadata": {
        "id": "WDpbHpUZnMH9",
        "colab_type": "code",
        "colab": {}
      },
      "source": [
        "#2nd perfect cube number\n",
        "print(\"write the number which you want to know the perfect cube.\")\n",
        "\n",
        "num = int(input())\n",
        "\n",
        "count = 0\n",
        "\n",
        "while count**3 < abs(num):\n",
        "    count = count+1\n",
        "\n",
        "if count**3 == abs(num):\n",
        "    print(count,\"is the perfect cube of\",num)\n",
        "\n",
        "else:\n",
        "    print(num,\"is not a perfect cube\")\n"
      ],
      "execution_count": null,
      "outputs": []
    },
    {
      "cell_type": "code",
      "metadata": {
        "id": "tMjD87i_tNLd",
        "colab_type": "code",
        "colab": {
          "base_uri": "https://localhost:8080/",
          "height": 74
        },
        "outputId": "3956c631-0263-473d-d77a-0c72a8f5fd3a"
      },
      "source": [
        "#3rd welcome to number guess\n",
        "import random\n",
        "number = random.randrange(0,100)\n",
        "guessCheck= \"wrong\"\n",
        "print(\"welcome to guess Check\")\n",
        "\n",
        "while guessCheck ==\"wrong\":\n",
        "    response = int(input(\"Enter a number between 0 to 100: \"))\n",
        "    try:\n",
        "        val = int(response)\n",
        "    except ValueError:\n",
        "        print(val,\"This is not a valid integer, please try again\")\n",
        "        continue\n",
        "    val = int(response)\n",
        "\n",
        "    if val<number:\n",
        "        print(val,\"This is lower than the actual number, please try again\")\n",
        "\n",
        "    elif val>number:\n",
        "        print(val,\"This is greater than the actual number, please try again\")\n",
        "\n",
        "    else:\n",
        "        print(val,\"this is the correct number\")\n",
        "        guessCheck = \"corecct\"\n",
        "\n",
        "print(\"Thank you for playing guess check number\")\n",
        "\n",
        "  \n"
      ],
      "execution_count": null,
      "outputs": [
        {
          "output_type": "stream",
          "text": [
            "welcome to guess Check\n"
          ],
          "name": "stdout"
        }
      ]
    }
  ]
}